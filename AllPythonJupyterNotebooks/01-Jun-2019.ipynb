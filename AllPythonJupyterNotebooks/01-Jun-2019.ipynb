{
 "cells": [
  {
   "cell_type": "markdown",
   "metadata": {},
   "source": [
    "## Objectives\n",
    "* Packages and Modules in Python\n",
    "* Turtle Graphics\n",
    "* File Handling\n",
    "* Python Libraries for Data Processing, Analysis, Visualization and \n",
    "    * Numpy - Array Processing\n",
    "    * Pandas - Data Analysis\n",
    "    * Matplotlib - Data Visualization\n",
    "    * Scikit-learn - Machine Learning"
   ]
  },
  {
   "cell_type": "markdown",
   "metadata": {},
   "source": [
    "### Packages and Modules\n",
    "\n",
    "* Package - Collection of Subpackages or Modules\n",
    "* SubPackage - Collection of Module (Every Python file can be considered as one module)\n",
    "* Module - Single Python file that consists of functions."
   ]
  },
  {
   "cell_type": "markdown",
   "metadata": {},
   "source": [
    "### Accessing the basic module from Numerical Package"
   ]
  },
  {
   "cell_type": "code",
   "execution_count": 5,
   "metadata": {},
   "outputs": [
    {
     "data": {
      "text/plain": [
       "1024"
      ]
     },
     "execution_count": 5,
     "metadata": {},
     "output_type": "execute_result"
    }
   ],
   "source": [
    "import numerical.basic  ## 'numerical' is the folder name and 'basic' is the python file \n",
    "                        ## inside numerical package \n",
    "numerical.basic.recPower(2,10)"
   ]
  },
  {
   "cell_type": "code",
   "execution_count": 6,
   "metadata": {},
   "outputs": [
    {
     "data": {
      "text/plain": [
       "False"
      ]
     },
     "execution_count": 6,
     "metadata": {},
     "output_type": "execute_result"
    }
   ],
   "source": [
    "import numerical.basic as nb ## 'nb' is the short cut name for 'numerical.basic'\n",
    "\n",
    "nb.isPrime(999)"
   ]
  },
  {
   "cell_type": "code",
   "execution_count": 7,
   "metadata": {},
   "outputs": [
    {
     "data": {
      "text/plain": [
       "81"
      ]
     },
     "execution_count": 7,
     "metadata": {},
     "output_type": "execute_result"
    }
   ],
   "source": [
    "from numerical import basic as b ## Another way of importing\n",
    "\n",
    "b.recPower(9,2)"
   ]
  },
  {
   "cell_type": "code",
   "execution_count": 12,
   "metadata": {},
   "outputs": [
    {
     "data": {
      "text/plain": [
       "False"
      ]
     },
     "execution_count": 12,
     "metadata": {},
     "output_type": "execute_result"
    }
   ],
   "source": [
    "from numerical.basic import isPrime ## importing function directly\n",
    "\n",
    "isPrime(34)"
   ]
  },
  {
   "cell_type": "code",
   "execution_count": 13,
   "metadata": {},
   "outputs": [
    {
     "data": {
      "text/plain": [
       "True"
      ]
     },
     "execution_count": 13,
     "metadata": {},
     "output_type": "execute_result"
    }
   ],
   "source": [
    "from numerical.basic import isPrime as ip\n",
    "\n",
    "ip(47)"
   ]
  },
  {
   "cell_type": "code",
   "execution_count": 21,
   "metadata": {},
   "outputs": [
    {
     "name": "stdout",
     "output_type": "stream",
     "text": [
      "2\n",
      "3\n",
      "5\n",
      "7\n"
     ]
    }
   ],
   "source": [
    "from numerical.primes import genPrimes as gp\n",
    "\n",
    "gp(10)"
   ]
  },
  {
   "cell_type": "markdown",
   "metadata": {},
   "source": [
    "## Turtle Graphics"
   ]
  },
  {
   "cell_type": "code",
   "execution_count": null,
   "metadata": {},
   "outputs": [],
   "source": [
    "import turtle as t\n",
    "\n",
    "wn = t.Screen() ## Creates turtle graphics screen\n",
    "t1 = t.Turtle() ## Creates a Turtle Object\n",
    "\n",
    "t1.forward(100)\n",
    "t1.right(100)\n",
    "t1.forward(100)\n",
    "t1.right(100)\n",
    "\n",
    "\n",
    "wn.mainloop() ## Allow the user to close the screen"
   ]
  },
  {
   "cell_type": "markdown",
   "metadata": {},
   "source": [
    "## File Handling"
   ]
  },
  {
   "cell_type": "markdown",
   "metadata": {},
   "source": [
    "### Define a function to read file data for a given file"
   ]
  },
  {
   "cell_type": "code",
   "execution_count": 4,
   "metadata": {},
   "outputs": [],
   "source": [
    "def readFileData(filename):\n",
    "    f = open(filename,'r')\n",
    "    filedata = f.read() ## Reads the file data in the form of a string\n",
    "    f.close()\n",
    "    return filedata"
   ]
  },
  {
   "cell_type": "code",
   "execution_count": 5,
   "metadata": {},
   "outputs": [
    {
     "data": {
      "text/plain": [
       "'This is a workshop based on problem solving and programming in python\\nThis is a 6 day workshop conducted in JNTUA University'"
      ]
     },
     "execution_count": 5,
     "metadata": {},
     "output_type": "execute_result"
    }
   ],
   "source": [
    "readFileData(\"datafiles/sample.txt\")"
   ]
  },
  {
   "cell_type": "code",
   "execution_count": 8,
   "metadata": {},
   "outputs": [],
   "source": [
    "def readFileData(filename):\n",
    "    f = open(filename,'r')\n",
    "    filedata = f.readlines() ## Reads the file data in the form of a list\n",
    "    f.close()\n",
    "    return filedata"
   ]
  },
  {
   "cell_type": "code",
   "execution_count": 9,
   "metadata": {},
   "outputs": [
    {
     "data": {
      "text/plain": [
       "['This is a workshop based on problem solving and programming in python\\n',\n",
       " 'This is a 6 day workshop conducted in JNTUA University']"
      ]
     },
     "execution_count": 9,
     "metadata": {},
     "output_type": "execute_result"
    }
   ],
   "source": [
    "readFileData(\"datafiles/sample.txt\")"
   ]
  },
  {
   "cell_type": "code",
   "execution_count": 10,
   "metadata": {},
   "outputs": [],
   "source": [
    "import re\n",
    "def readFileData(filename):\n",
    "    f = open(filename,'r')\n",
    "    filedata = f.read()\n",
    "    f.close()\n",
    "    return filedata"
   ]
  },
  {
   "cell_type": "code",
   "execution_count": 11,
   "metadata": {},
   "outputs": [
    {
     "data": {
      "text/plain": [
       "21"
      ]
     },
     "execution_count": 11,
     "metadata": {},
     "output_type": "execute_result"
    }
   ],
   "source": [
    "len(re.split('\\ ',readFileData(\"datafiles/sample.txt\"))) ## count of words in a file"
   ]
  },
  {
   "cell_type": "code",
   "execution_count": 41,
   "metadata": {},
   "outputs": [],
   "source": [
    "# wordlist = re.findall(r\"[\\w']+\",readFileData(\"datafiles/sample.txt\")) \n",
    "wordlist = re.split('\\W+',readFileData(\"datafiles/sample.txt\"))"
   ]
  },
  {
   "cell_type": "code",
   "execution_count": 42,
   "metadata": {},
   "outputs": [
    {
     "data": {
      "text/plain": [
       "['This',\n",
       " 'is',\n",
       " 'a',\n",
       " 'workshop',\n",
       " 'based',\n",
       " 'on',\n",
       " 'problem',\n",
       " 'solving',\n",
       " 'and',\n",
       " 'programming',\n",
       " 'in',\n",
       " 'python',\n",
       " 'This',\n",
       " 'is',\n",
       " 'a',\n",
       " '6',\n",
       " 'day',\n",
       " 'workshop',\n",
       " 'conducted',\n",
       " 'in',\n",
       " 'JNTUA',\n",
       " 'University']"
      ]
     },
     "execution_count": 42,
     "metadata": {},
     "output_type": "execute_result"
    }
   ],
   "source": [
    "wordlist"
   ]
  },
  {
   "cell_type": "markdown",
   "metadata": {},
   "source": [
    "## Calculate the frequency of words in a list"
   ]
  },
  {
   "cell_type": "code",
   "execution_count": 24,
   "metadata": {},
   "outputs": [],
   "source": [
    "def frequencyOfWords(wordlist):\n",
    "    \n",
    "    list2=[]\n",
    "    \n",
    "    for word in wordlist:\n",
    "        if word not in list2:\n",
    "            list2.append(word)\n",
    "            \n",
    "    print(f'Total number of disticnt words are {len(list2)}')\n",
    "    \n",
    "    for i in range(len(list2)):\n",
    "        print(f'Occurance of {list2[i]} : {wordlist.count(list2[i])}')"
   ]
  },
  {
   "cell_type": "code",
   "execution_count": 43,
   "metadata": {},
   "outputs": [
    {
     "name": "stdout",
     "output_type": "stream",
     "text": [
      "Total number of disticnt words are 17\n",
      "Occurance of This : 2\n",
      "Occurance of is : 2\n",
      "Occurance of a : 2\n",
      "Occurance of workshop : 2\n",
      "Occurance of based : 1\n",
      "Occurance of on : 1\n",
      "Occurance of problem : 1\n",
      "Occurance of solving : 1\n",
      "Occurance of and : 1\n",
      "Occurance of programming : 1\n",
      "Occurance of in : 2\n",
      "Occurance of python : 1\n",
      "Occurance of 6 : 1\n",
      "Occurance of day : 1\n",
      "Occurance of conducted : 1\n",
      "Occurance of JNTUA : 1\n",
      "Occurance of University : 1\n"
     ]
    }
   ],
   "source": [
    "frequencyOfWords(wordlist)"
   ]
  },
  {
   "cell_type": "code",
   "execution_count": 47,
   "metadata": {},
   "outputs": [],
   "source": [
    "def extractUniqueWords(wordlist):\n",
    "    \n",
    "    words = {}\n",
    "    \n",
    "    for word in wordlist:\n",
    "        if word not in words.keys():\n",
    "            words[word] = 1"
   ]
  },
  {
   "cell_type": "code",
   "execution_count": 50,
   "metadata": {},
   "outputs": [],
   "source": [
    "uniqueWords = extractUniqueWords(wordlist)"
   ]
  },
  {
   "cell_type": "code",
   "execution_count": 51,
   "metadata": {},
   "outputs": [
    {
     "data": {
      "text/plain": [
       "{'This': 1,\n",
       " 'is': 1,\n",
       " 'a': 1,\n",
       " 'workshop': 1,\n",
       " 'based': 1,\n",
       " 'on': 1,\n",
       " 'problem': 1,\n",
       " 'solving': 1,\n",
       " 'and': 1,\n",
       " 'programming': 1,\n",
       " 'in': 1,\n",
       " 'python': 1,\n",
       " '6': 1,\n",
       " 'day': 1,\n",
       " 'conducted': 1,\n",
       " 'JNTUA': 1,\n",
       " 'University': 1}"
      ]
     },
     "execution_count": 51,
     "metadata": {},
     "output_type": "execute_result"
    }
   ],
   "source": [
    "uniqueWords"
   ]
  },
  {
   "cell_type": "code",
   "execution_count": 52,
   "metadata": {},
   "outputs": [],
   "source": [
    "def frequencyOfWords(wordlist,uniqueWords):\n",
    "    \n",
    "    for word in uniqueWords.keys():\n",
    "        uniqueWords[word] = len(re.findall(word,wordlist))\n",
    "    return uniqueWords"
   ]
  },
  {
   "cell_type": "code",
   "execution_count": 54,
   "metadata": {},
   "outputs": [
    {
     "data": {
      "text/plain": [
       "{'This': 2,\n",
       " 'is': 4,\n",
       " 'a': 6,\n",
       " 'workshop': 2,\n",
       " 'based': 1,\n",
       " 'on': 3,\n",
       " 'problem': 1,\n",
       " 'solving': 1,\n",
       " 'and': 1,\n",
       " 'programming': 1,\n",
       " 'in': 4,\n",
       " 'python': 1,\n",
       " '6': 1,\n",
       " 'day': 1,\n",
       " 'conducted': 1,\n",
       " 'JNTUA': 1,\n",
       " 'University': 1}"
      ]
     },
     "execution_count": 54,
     "metadata": {},
     "output_type": "execute_result"
    }
   ],
   "source": [
    "frequencyOfWords(readFileData(\"datafiles/sample.txt\"),uniqueWords)"
   ]
  },
  {
   "cell_type": "code",
   "execution_count": null,
   "metadata": {},
   "outputs": [],
   "source": []
  }
 ],
 "metadata": {
  "kernelspec": {
   "display_name": "Python 3",
   "language": "python",
   "name": "python3"
  },
  "language_info": {
   "codemirror_mode": {
    "name": "ipython",
    "version": 3
   },
   "file_extension": ".py",
   "mimetype": "text/x-python",
   "name": "python",
   "nbconvert_exporter": "python",
   "pygments_lexer": "ipython3",
   "version": "3.7.3"
  }
 },
 "nbformat": 4,
 "nbformat_minor": 2
}
