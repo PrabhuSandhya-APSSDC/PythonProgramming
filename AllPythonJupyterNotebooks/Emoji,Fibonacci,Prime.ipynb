{
 "cells": [
  {
   "cell_type": "code",
   "execution_count": 2,
   "metadata": {},
   "outputs": [
    {
     "name": "stdout",
     "output_type": "stream",
     "text": [
      "Enter Text: I'm Sad :(\n",
      "I'm Sad 😫 \n"
     ]
    }
   ],
   "source": [
    "emojis = {\":)\":\"🤣\",\":(\":\"😫\",\":D\":\"😁\"}\n",
    "text = input('Enter Text: ')\n",
    "list_of_words = text.split(\" \")\n",
    "final_string = ''\n",
    "for word in list_of_words:\n",
    "    final_string += emojis.get(word,word)+' '\n",
    "print(final_string)"
   ]
  },
  {
   "cell_type": "markdown",
   "metadata": {},
   "source": [
    "### Generating the Fibonacci Series recursively\n",
    "\n",
    "Given an integer n, generate the first n numbers in the Fibonacci series recursively\n",
    "\n",
    "fibRecursive(5) --> 0 1 1 2 3\n",
    "fibRecursive(10)--> 0 1 1 2 3 5 8 13 21 34"
   ]
  },
  {
   "cell_type": "code",
   "execution_count": 7,
   "metadata": {},
   "outputs": [],
   "source": [
    "def fibRecursive(n):\n",
    "    if n==1:\n",
    "        return 0\n",
    "    elif n==2:\n",
    "        return 1\n",
    "    else:\n",
    "        return fibRecursive(n-1)+fibRecursive(n-2)\n",
    "        "
   ]
  },
  {
   "cell_type": "code",
   "execution_count": 8,
   "metadata": {},
   "outputs": [
    {
     "data": {
      "text/plain": [
       "3"
      ]
     },
     "execution_count": 8,
     "metadata": {},
     "output_type": "execute_result"
    }
   ],
   "source": [
    "fibRecursive(5)"
   ]
  },
  {
   "cell_type": "markdown",
   "metadata": {},
   "source": [
    "### Generating N Prime Numbers\n",
    "\n",
    "Given an integer n, Design a python script to generate first n primes\n",
    "\n",
    "genPrimes(6) --> 2,3,5,7,11,13\n",
    "genPrimes(3) --> 2,3,5"
   ]
  },
  {
   "cell_type": "code",
   "execution_count": 25,
   "metadata": {},
   "outputs": [],
   "source": [
    "def isPrime(n):\n",
    "    for i in range(2,n//2+1):\n",
    "        if n%i==0:\n",
    "            return False\n",
    "    return True\n",
    "\n",
    "def genPrimes(n):\n",
    "    count=0\n",
    "    primes=[]\n",
    "    i=0\n",
    "    while(count<=n):\n",
    "        if (isPrime(i)):\n",
    "            count+=1\n",
    "            primes.append(i)\n",
    "        i+=1\n",
    "    return primes"
   ]
  },
  {
   "cell_type": "code",
   "execution_count": 26,
   "metadata": {},
   "outputs": [
    {
     "data": {
      "text/plain": [
       "17"
      ]
     },
     "execution_count": 26,
     "metadata": {},
     "output_type": "execute_result"
    }
   ],
   "source": [
    "genPrimes(8)"
   ]
  },
  {
   "cell_type": "markdown",
   "metadata": {},
   "source": [
    "### Nth Prime Number\n",
    "\n",
    "Given an integer n, identify the nth prime number"
   ]
  },
  {
   "cell_type": "code",
   "execution_count": 31,
   "metadata": {},
   "outputs": [],
   "source": [
    "def isPrime(n):\n",
    "    for i in range(2,n//2+1):\n",
    "        if n%i==0:\n",
    "            return False\n",
    "    return True\n",
    "\n",
    "def findPrime(n):\n",
    "    count=1\n",
    "    primes=[]\n",
    "    i=2\n",
    "    while(count<=n):\n",
    "        if (isPrime(i)):\n",
    "            count+=1\n",
    "            primes.append(i)\n",
    "        i+=1\n",
    "    return primes[n-1]"
   ]
  },
  {
   "cell_type": "code",
   "execution_count": 32,
   "metadata": {},
   "outputs": [
    {
     "data": {
      "text/plain": [
       "2"
      ]
     },
     "execution_count": 32,
     "metadata": {},
     "output_type": "execute_result"
    }
   ],
   "source": [
    "findPrime(1)"
   ]
  },
  {
   "cell_type": "code",
   "execution_count": null,
   "metadata": {},
   "outputs": [],
   "source": []
  }
 ],
 "metadata": {
  "kernelspec": {
   "display_name": "Python 3",
   "language": "python",
   "name": "python3"
  },
  "language_info": {
   "codemirror_mode": {
    "name": "ipython",
    "version": 3
   },
   "file_extension": ".py",
   "mimetype": "text/x-python",
   "name": "python",
   "nbconvert_exporter": "python",
   "pygments_lexer": "ipython3",
   "version": "3.7.3"
  }
 },
 "nbformat": 4,
 "nbformat_minor": 2
}
