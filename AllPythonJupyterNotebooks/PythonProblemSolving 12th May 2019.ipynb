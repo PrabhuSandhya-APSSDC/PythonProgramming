{
 "cells": [
  {
   "cell_type": "markdown",
   "metadata": {},
   "source": [
    "## You are given n words. Some words may repeat. For each word, output its number of occurrences. The output order should correspond with the input order of appearance of the word. \n",
    "First line of input contains the total number of words n. Next n lines contain words that need to processed.\n",
    "\n",
    "First line of the output should contain the total number distinct words. Second line of output must contain the frequency of words the same order of their appearance as in the input\n",
    "\n",
    "Sample Input :  6\n",
    "\n",
    "abcd\n",
    "\n",
    "ijkl\n",
    "\n",
    "abcd\n",
    "\n",
    "pqrs\n",
    "\n",
    "abcd\n",
    "\n",
    "ijkl\n",
    "\n",
    "Sample Output :   3\n",
    "\n",
    "3  2   1"
   ]
  },
  {
   "cell_type": "code",
   "execution_count": 27,
   "metadata": {},
   "outputs": [],
   "source": [
    "def occuranceOfWords():\n",
    "    n=int(input(\"Enter total number of words:\"))\n",
    "    list=[]\n",
    "    list2=[]\n",
    "    count=0\n",
    "    \n",
    "    ## Read words dynamically and store in \"List\" array\n",
    "    for i in range(n):\n",
    "        list.append(input(\"Enter word  \"))\n",
    "        i+=1\n",
    "\n",
    "    for word in list:\n",
    "        ## Checking for the diplicate word\n",
    "        if word not in list2:\n",
    "            list2.append(word)\n",
    "            \n",
    "    ## To print total no.of distinct words\n",
    "    print(f'Total number of distinct words are {len(list2)}')\n",
    "    \n",
    "    ## To print fequency of words\n",
    "    for j in range(len(list2)):\n",
    "        print(f'Fequency of {list2[j]} is : {list.count(list2[j])}')"
   ]
  },
  {
   "cell_type": "code",
   "execution_count": 28,
   "metadata": {},
   "outputs": [
    {
     "name": "stdout",
     "output_type": "stream",
     "text": [
      "Enter total number of words:6\n",
      "Enter word  hello\n",
      "Enter word  hi\n",
      "Enter word  bye\n",
      "Enter word  bye\n",
      "Enter word  hello\n",
      "Enter word  hi\n",
      "Total number of distinct words are 3\n",
      "Fequency of hello is : 2\n",
      "Fequency of hi is : 2\n",
      "Fequency of bye is : 2\n"
     ]
    }
   ],
   "source": [
    "occuranceOfWords()"
   ]
  },
  {
   "cell_type": "markdown",
   "metadata": {},
   "source": [
    "## Define a function to validate email addresses based on the following rules.\n",
    "\n",
    "Email should be in the format username@domain.extension\n",
    "username must start with an alphabet and can contain lowercase alphabet, digits, hyphen(-) and underscores( _ ).\n",
    "username must not contain special characters, uppercase letters, whitespaces.\n",
    "Length of username must be in the range (6, 16)\n",
    "Domain can only contain lowercase alphabet and digits with length in range (3, 10) . No special characters are allowed\n",
    "Extension can only contain lower case alphabet and its length must be in the range (2, 4)\n",
    "First line of input contains total number of email addresses n.  Next n lines contain  n email addresses.\n",
    "\n",
    "Output must contain contain  n  lines with either 'Valid' or 'Invalid'\n",
    "\n",
    "Sample Input :  6\n",
    "\n",
    "abc456@gmail.com\n",
    "\n",
    "456abc@yahoo.com\n",
    "\n",
    "abc_456@gitam.ed1\n",
    "\n",
    "abc-456@abc-d.in\n",
    "\n",
    "python@python.edu\n",
    "\n",
    "abc 456@edu.edu\n",
    "\n",
    "Sample Output :   Valid\n",
    "\n",
    "Invalid\n",
    "\n",
    "Invalid\n",
    "\n",
    "Invalid\n",
    "\n",
    "Valid\n",
    "\n",
    "Invalid"
   ]
  },
  {
   "cell_type": "code",
   "execution_count": 30,
   "metadata": {},
   "outputs": [],
   "source": [
    "def validEmailAddress():\n",
    "    listOfEmails=[]\n",
    "    n=int(input(\"No.of emails to be entered:\"))\n",
    "    for i in range(n):\n",
    "        listOfEmails.append(input(\"Enter Email : \"))\n",
    "    "
   ]
  },
  {
   "cell_type": "code",
   "execution_count": null,
   "metadata": {},
   "outputs": [],
   "source": []
  }
 ],
 "metadata": {
  "kernelspec": {
   "display_name": "Python 3",
   "language": "python",
   "name": "python3"
  },
  "language_info": {
   "codemirror_mode": {
    "name": "ipython",
    "version": 3
   },
   "file_extension": ".py",
   "mimetype": "text/x-python",
   "name": "python",
   "nbconvert_exporter": "python",
   "pygments_lexer": "ipython3",
   "version": "3.7.3"
  }
 },
 "nbformat": 4,
 "nbformat_minor": 2
}
