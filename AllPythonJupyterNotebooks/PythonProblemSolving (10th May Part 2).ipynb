{
 "cells": [
  {
   "cell_type": "markdown",
   "metadata": {},
   "source": [
    "## Generating nth Fibonacci number using Iteration"
   ]
  },
  {
   "cell_type": "code",
   "execution_count": 23,
   "metadata": {},
   "outputs": [],
   "source": [
    "def fib(n):\n",
    "    n1=0\n",
    "    n2=1\n",
    "    i=1\n",
    "    fib_sum=1\n",
    "    while i<n:\n",
    "        fib_sum=n1+n2\n",
    "        n1=n2\n",
    "        n2=fib_sum\n",
    "        print(fib_sum)\n",
    "        i+=1"
   ]
  },
  {
   "cell_type": "code",
   "execution_count": 24,
   "metadata": {},
   "outputs": [
    {
     "name": "stdout",
     "output_type": "stream",
     "text": [
      "1\n",
      "2\n",
      "3\n",
      "5\n"
     ]
    }
   ],
   "source": [
    "fib(5)"
   ]
  },
  {
   "cell_type": "code",
   "execution_count": 25,
   "metadata": {},
   "outputs": [],
   "source": [
    "def nFib(n):\n",
    "    n1=0\n",
    "    n2=1\n",
    "    i=1\n",
    "    fib_sum=1\n",
    "    while i<n:\n",
    "        fib_sum=n1+n2\n",
    "        n1=n2\n",
    "        n2=fib_sum\n",
    "        i+=1\n",
    "    print(f'{n}th fibonacci number is {fib_sum}')"
   ]
  },
  {
   "cell_type": "code",
   "execution_count": 26,
   "metadata": {},
   "outputs": [
    {
     "name": "stdout",
     "output_type": "stream",
     "text": [
      "10th fibonacci number is 55\n"
     ]
    }
   ],
   "source": [
    "nFib(10)"
   ]
  },
  {
   "cell_type": "code",
   "execution_count": 8,
   "metadata": {},
   "outputs": [],
   "source": [
    "def fib_rec(n):\n",
    "    if n==0:\n",
    "        return 0\n",
    "    elif n==1:\n",
    "        return 1\n",
    "    else:\n",
    "        return fib_rec(n-1)+fib_rec(n-2)"
   ]
  },
  {
   "cell_type": "code",
   "execution_count": 9,
   "metadata": {},
   "outputs": [
    {
     "data": {
      "text/plain": [
       "5"
      ]
     },
     "execution_count": 9,
     "metadata": {},
     "output_type": "execute_result"
    }
   ],
   "source": [
    "fib_rec(5)"
   ]
  },
  {
   "cell_type": "code",
   "execution_count": 10,
   "metadata": {},
   "outputs": [
    {
     "data": {
      "text/plain": [
       "55"
      ]
     },
     "execution_count": 10,
     "metadata": {},
     "output_type": "execute_result"
    }
   ],
   "source": [
    "fib_rec(10)"
   ]
  },
  {
   "cell_type": "markdown",
   "metadata": {},
   "source": [
    "## Define a function to identity the number of times a substring is repeating in a given string\n",
    "\n",
    "substringCount('str', 'substr') -> 1\n",
    "substringCount('1234567891122334455', '3') -> 3\n",
    "substringCount('abccddccc', 'cc') -> 3\n",
    "substringCount('aaaaaaa', 'aaa' ) -> 5"
   ]
  },
  {
   "cell_type": "code",
   "execution_count": 36,
   "metadata": {},
   "outputs": [],
   "source": [
    "def subStringCount(string,substring):\n",
    "    count=0\n",
    "    l=len(substring)\n",
    "    for i in range(len(string)):\n",
    "        if substring==string[i:i+l]:\n",
    "            count+=1\n",
    "    print(count)"
   ]
  },
  {
   "cell_type": "code",
   "execution_count": 39,
   "metadata": {},
   "outputs": [
    {
     "name": "stdout",
     "output_type": "stream",
     "text": [
      "5\n"
     ]
    }
   ],
   "source": [
    "subStringCount('aaaaaaa', 'aaa')"
   ]
  },
  {
   "cell_type": "markdown",
   "metadata": {},
   "source": [
    "## Define a function to merge the characters of two strings alternatively. The remaining characters of the longer string are printed in the same order at the end.\n",
    "\n",
    "mergeString('abcd', 'abcd') -> 'aabbccdd'\n",
    "mergeString('abc', '123456') -> 'a1b2c3456'\n",
    "mergeString('0', '123456') -> '0123456'"
   ]
  },
  {
   "cell_type": "code",
   "execution_count": 92,
   "metadata": {},
   "outputs": [],
   "source": [
    "def mergeString(string1,string2):\n",
    "    l1=len(string1)\n",
    "    l2=len(string2)\n",
    "    longestString=''\n",
    "    smallestString=''\n",
    "    mergedString=''\n",
    "    rem_str=''\n",
    "    \n",
    "    if l1<l2:\n",
    "        longestString=string2\n",
    "        smallestString=string1\n",
    "    else:\n",
    "        longestString=string1\n",
    "        smallestString=string2\n",
    "    for i in range(len(smallestString)):\n",
    "        mergedString=mergedString+string1[i]+string2[i]\n",
    "        \n",
    "    rem_len=len(longestString)-len(smallestString)\n",
    "    \n",
    "    for j in range(len(longestString)-rem_len,len(longestString),1):\n",
    "        rem_str=rem_str+longestString[j]\n",
    "        \n",
    "    print(mergedString+rem_str)"
   ]
  },
  {
   "cell_type": "code",
   "execution_count": 94,
   "metadata": {},
   "outputs": [
    {
     "name": "stdout",
     "output_type": "stream",
     "text": [
      "a1b2c3d4e5f6g7h8i9jklmnop\n"
     ]
    }
   ],
   "source": [
    "mergeString(\"abcdefghijklmnop\",\"123456789\")"
   ]
  },
  {
   "cell_type": "code",
   "execution_count": 88,
   "metadata": {},
   "outputs": [
    {
     "name": "stdout",
     "output_type": "stream",
     "text": [
      "y\n",
      "a\n"
     ]
    }
   ],
   "source": [
    "string=\"sandhya\"\n",
    "l=len(string)\n",
    "for i in range(l-2,l,1):\n",
    "    print(string[i])"
   ]
  },
  {
   "cell_type": "markdown",
   "metadata": {},
   "source": [
    "## Define a function to convert a binary number to the corresponding decimal number\n",
    "\n",
    "binaryToDecimal(1100) -> 12\n",
    "binaryToDecimal(1010) -> 10\n",
    "binaryToDecimal(111000) -> 56"
   ]
  },
  {
   "cell_type": "code",
   "execution_count": 14,
   "metadata": {},
   "outputs": [],
   "source": [
    "def binaryToDecimal(n):\n",
    "    base=2\n",
    "    exponent=0\n",
    "    list=[]\n",
    "    decimal=0\n",
    "    while n>0:\n",
    "        a=n%10\n",
    "        list.append(a)\n",
    "        n=n//10\n",
    "    i=0\n",
    "    while i<len(list):\n",
    "        if list[i]!=0:\n",
    "            decimal=decimal+power(base,i)\n",
    "        i+=1\n",
    "    print(f'Decimal number of given binary number is {decimal}')\n",
    "def power(base,exp):\n",
    "    j=0\n",
    "    power=1\n",
    "    while j<exp:\n",
    "        power=power*base\n",
    "        j+=1\n",
    "    return power"
   ]
  },
  {
   "cell_type": "code",
   "execution_count": 17,
   "metadata": {},
   "outputs": [
    {
     "name": "stdout",
     "output_type": "stream",
     "text": [
      "Decimal number of given binary number is 56\n"
     ]
    }
   ],
   "source": [
    "binaryToDecimal(111000)"
   ]
  },
  {
   "cell_type": "markdown",
   "metadata": {},
   "source": [
    "## Define a function to convert a decimal number to the corresponding binary number\n",
    "\n",
    "decimalToBinary(15) -> 1111\n",
    "decimalToBinary(1) -> 1"
   ]
  },
  {
   "cell_type": "code",
   "execution_count": 29,
   "metadata": {},
   "outputs": [],
   "source": [
    "def decimalToBinary(n):\n",
    "    binaryNumber=''\n",
    "    if n==1:\n",
    "        return n\n",
    "    else:\n",
    "        while n>0:\n",
    "            a=n%2\n",
    "            binaryNumber=str(a)+binaryNumber\n",
    "            n=n//2\n",
    "        print(binaryNumber)"
   ]
  },
  {
   "cell_type": "code",
   "execution_count": 31,
   "metadata": {},
   "outputs": [
    {
     "name": "stdout",
     "output_type": "stream",
     "text": [
      "1100\n"
     ]
    }
   ],
   "source": [
    "decimalToBinary(12)"
   ]
  },
  {
   "cell_type": "markdown",
   "metadata": {},
   "source": [
    "## Define a function to check if a given year is a leap year. Returns a boolean value\n",
    "\n",
    "2000 -> True\n",
    "1900 -> False\n",
    "2012 -> True\n",
    "2020 -> True\n",
    "0200 -> False"
   ]
  },
  {
   "cell_type": "code",
   "execution_count": 36,
   "metadata": {},
   "outputs": [],
   "source": [
    "def isLeapYear(y):\n",
    "    if (y%400==0) or ((y%4==0) and (y%100!=0)):\n",
    "        return True\n",
    "    else:\n",
    "        return False"
   ]
  },
  {
   "cell_type": "code",
   "execution_count": 38,
   "metadata": {},
   "outputs": [
    {
     "data": {
      "text/plain": [
       "True"
      ]
     },
     "execution_count": 38,
     "metadata": {},
     "output_type": "execute_result"
    }
   ],
   "source": [
    "isLeapYear(2012)"
   ]
  },
  {
   "cell_type": "markdown",
   "metadata": {},
   "source": [
    "## Design a Python script to determine the difference in date for given two dates in YYYY:MM:DD format(0 <= YYYY <= 9999, 1 <= MM <= 12, 1 <= DD <= 31) following the leap year rules. Return the total number of days existing between the two dates.\n",
    "\n",
    "dateDifference('2019:05:10', '2019:05:01') -> 9\n",
    "dateDifference('0003:03:03', '0003:06:06') -> 95\n",
    "dateDifference('0001:03:27', '0001:06:03') -> 68"
   ]
  },
  {
   "cell_type": "code",
   "execution_count": 3,
   "metadata": {},
   "outputs": [],
   "source": [
    "def DaysInFeb(year):\n",
    "    if (year%400==0) or (year%4==0 and year%100!=0):\n",
    "        return 29\n",
    "    return 28"
   ]
  },
  {
   "cell_type": "code",
   "execution_count": 9,
   "metadata": {},
   "outputs": [
    {
     "data": {
      "text/plain": [
       "28"
      ]
     },
     "execution_count": 9,
     "metadata": {},
     "output_type": "execute_result"
    }
   ],
   "source": [
    "DaysInFeb(2005)"
   ]
  },
  {
   "cell_type": "code",
   "execution_count": 10,
   "metadata": {},
   "outputs": [],
   "source": [
    "def NoofDaysInMonth(month,year):\n",
    "     #monthDays = {'01':31, '03':31, '04':30, '05':31, '06':30, '07':31, '08':31, '09':30, '10':31, '11':30, '12':31}\n",
    "    if month==2:\n",
    "        return DaysInFeb(year)\n",
    "    elif (month<7 and month%2==0 and month!=2) or (month>7 and month%2!=0):\n",
    "        return 30\n",
    "    else:\n",
    "        return 31"
   ]
  },
  {
   "cell_type": "code",
   "execution_count": 14,
   "metadata": {},
   "outputs": [
    {
     "data": {
      "text/plain": [
       "28"
      ]
     },
     "execution_count": 14,
     "metadata": {},
     "output_type": "execute_result"
    }
   ],
   "source": [
    "NoofDaysInMonth(2,2018)"
   ]
  },
  {
   "cell_type": "code",
   "execution_count": 15,
   "metadata": {},
   "outputs": [],
   "source": [
    "def NoofDaysInYear(year):\n",
    "    if DaysInFeb(year)==29:\n",
    "        return 366\n",
    "    else:\n",
    "        return 365"
   ]
  },
  {
   "cell_type": "code",
   "execution_count": 19,
   "metadata": {},
   "outputs": [
    {
     "data": {
      "text/plain": [
       "366"
      ]
     },
     "execution_count": 19,
     "metadata": {},
     "output_type": "execute_result"
    }
   ],
   "source": [
    "NoofDaysInYear(2000)"
   ]
  },
  {
   "cell_type": "code",
   "execution_count": 50,
   "metadata": {},
   "outputs": [],
   "source": [
    "##  This function returns the total number of days completed till the given date(YYYY:MM:DD)\n",
    "#  (1998:06:03)\n",
    "def TotalNoofDaysforStartingDate(date):\n",
    "    year=yearFromDate(date)\n",
    "    month=monthFromDate(date)\n",
    "    day=daysFromDate(date)\n",
    "    sum=0\n",
    "    for i in range(1,month):\n",
    "        sum=sum+NoofDaysInMonth(i,year)\n",
    "    sum=sum+day\n",
    "    return sum\n",
    "    \n",
    "def TotalNoofDaysforEndingDate(date):\n",
    "    year=yearFromDate(date)\n",
    "    month=monthFromDate(date)\n",
    "    day=daysFromDate(date)\n",
    "    sum=0\n",
    "    for i in range(month+1, 13):\n",
    "        sum +=  NoofDaysInMonth(i, year)\n",
    "    sum += (NoofDaysInMonth(month, year) - day + 1)\n",
    "    return sum\n",
    "    \n",
    "    \n",
    "def yearFromDate(date):\n",
    "     return int(date[:4])\n",
    "    \n",
    "def monthFromDate(date):\n",
    "    return int(date[5:7])\n",
    "\n",
    "def daysFromDate(date):\n",
    "    return int(date[len(date)-2:])"
   ]
  },
  {
   "cell_type": "code",
   "execution_count": 51,
   "metadata": {},
   "outputs": [
    {
     "data": {
      "text/plain": [
       "365"
      ]
     },
     "execution_count": 51,
     "metadata": {},
     "output_type": "execute_result"
    }
   ],
   "source": [
    "TotalNoofDaysforEndingDate(\"2011:01:01\")"
   ]
  },
  {
   "cell_type": "code",
   "execution_count": 43,
   "metadata": {},
   "outputs": [],
   "source": [
    "def DateDifference(date1,date2):\n",
    "    if yearFromDate(date1) == yearFromDate(date2):\n",
    "        return abs(totalDaysDate(date1) - totalDaysDate(date2))\n",
    "    elif yearFromDate(date2) - yearFromDate(date1) == 1:\n",
    "        return TotalNoofDaysforEndingDate(date1) + TotalNoofDaysforStartingDate(date2)\n",
    "    else:\n",
    "        sum = TotalNoofDaysforEndingDate(date1) + TotalNoofDaysforStartingDate(date2)\n",
    "        year1 = yearFromDate(date1)\n",
    "        year2 = yearFromDate(date2)\n",
    "        for i in range(year1+1, year2):\n",
    "            sum += NoofDaysInYear(i)\n",
    "        return sum"
   ]
  },
  {
   "cell_type": "code",
   "execution_count": 52,
   "metadata": {},
   "outputs": [
    {
     "data": {
      "text/plain": [
       "759"
      ]
     },
     "execution_count": 52,
     "metadata": {},
     "output_type": "execute_result"
    }
   ],
   "source": [
    "DateDifference('0001:01:31', '0003:02:28')"
   ]
  },
  {
   "cell_type": "code",
   "execution_count": 53,
   "metadata": {},
   "outputs": [
    {
     "name": "stdout",
     "output_type": "stream",
     "text": [
      "758 days, 0:00:00\n"
     ]
    }
   ],
   "source": [
    "from datetime import date, datetime\n",
    "def dateDifference2(date1, date2):\n",
    "    \n",
    "    year1 = yearFromDate(date1) \n",
    "    month1 =  monthFromDate(date1) \n",
    "    day1 =  daysFromDate(date1)\n",
    "    \n",
    "    year2 = yearFromDate(date2) \n",
    "    month2 =  monthFromDate(date2) \n",
    "    day2 =  daysFromDate(date2)\n",
    "    \n",
    "    d1 = date(year = year1, month = month1, day = day1)\n",
    "    d2 = date(year = year2, month = month2, day = day2)\n",
    "    print(d2-d1)\n",
    "    return\n",
    "\n",
    "dateDifference2('0001:01:31', '0003:02:28')"
   ]
  },
  {
   "cell_type": "markdown",
   "metadata": {},
   "source": [
    "## Define a function to find the average of all the outer elements of an N x M matrix.\n",
    "\n",
    "averageOuterMatrix([[1, 2, 3], [4, 5, 6], [7, 8, 9], [10, 11, 12]] -> 4.5"
   ]
  },
  {
   "cell_type": "code",
   "execution_count": 57,
   "metadata": {},
   "outputs": [
    {
     "name": "stdout",
     "output_type": "stream",
     "text": [
      "1\n",
      "2\n",
      "3\n",
      "4\n",
      "\n",
      "6\n",
      "7\n",
      "8\n",
      "9\n"
     ]
    }
   ],
   "source": [
    "def averageOuterMatrix(a,rows,columns):\n",
    "    for i in range(rows):\n",
    "        for j in range(columns):\n",
    "            if i==0:\n",
    "                print(a[i][j])\n",
    "            elif i==rows-1:\n",
    "                print(a[i][j])\n",
    "            elif j==0:\n",
    "                print(a[i][j])\n",
    "            elif j==columns-1:\n",
    "                print(a[i][j])\n",
    "            else:\n",
    "                print(\"\")\n",
    "                \n",
    "                \n",
    "m1 = [[1,2,3], [4,5,6], [7,8,9]]\n",
    "    \n",
    "averageOuterMatrix(m1,3,3)"
   ]
  },
  {
   "cell_type": "code",
   "execution_count": null,
   "metadata": {},
   "outputs": [],
   "source": []
  }
 ],
 "metadata": {
  "kernelspec": {
   "display_name": "Python 3",
   "language": "python",
   "name": "python3"
  },
  "language_info": {
   "codemirror_mode": {
    "name": "ipython",
    "version": 3
   },
   "file_extension": ".py",
   "mimetype": "text/x-python",
   "name": "python",
   "nbconvert_exporter": "python",
   "pygments_lexer": "ipython3",
   "version": "3.7.3"
  }
 },
 "nbformat": 4,
 "nbformat_minor": 2
}
